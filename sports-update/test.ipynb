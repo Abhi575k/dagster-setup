{
 "cells": [
  {
   "cell_type": "code",
   "execution_count": 1,
   "id": "d0010d38-d481-48c0-8eb8-9ad4e4f35656",
   "metadata": {},
   "outputs": [],
   "source": [
    "from dagster import asset\n",
    "from dagster import AssetIn\n",
    "\n",
    "from newsapi import NewsApiClient"
   ]
  },
  {
   "cell_type": "code",
   "execution_count": 2,
   "id": "48744a45-8597-48a4-bfa2-15e216bead4a",
   "metadata": {},
   "outputs": [],
   "source": [
    "def authenticate():\n",
    "    # Basic Software defined asset\n",
    "    api = NewsApiClient(api_key='0947e61238ad4260aa7415243ff9710a')\n",
    "    \n",
    "    return api\n",
    "\n",
    "def fetch_data(authenticate):\n",
    "    api = authenticate\n",
    "    \n",
    "    data = api.get_top_headlines(sources='four-four-two')\n",
    "\n",
    "    return data"
   ]
  },
  {
   "cell_type": "code",
   "execution_count": 3,
   "id": "2d9aaf43-1206-4af3-bf4b-2e01bd0d58aa",
   "metadata": {},
   "outputs": [],
   "source": [
    "data = authenticate()"
   ]
  },
  {
   "cell_type": "code",
   "execution_count": 12,
   "id": "848e281d-b6f0-44f6-8aa3-cd26c0a8df47",
   "metadata": {},
   "outputs": [
    {
     "data": {
      "text/plain": [
       "dict_keys(['status', 'totalResults', 'articles'])"
      ]
     },
     "execution_count": 12,
     "metadata": {},
     "output_type": "execute_result"
    }
   ],
   "source": [
    "data.keys()"
   ]
  },
  {
   "cell_type": "code",
   "execution_count": 27,
   "id": "f9fe34ed-a1f1-42fc-b785-328c82e7a477",
   "metadata": {},
   "outputs": [
    {
     "data": {
      "text/plain": [
       "[{'source': {'id': 'four-four-two', 'name': 'FourFourTwo'},\n",
       "  'author': 'Ryan Dabbs, Leo Moynihan',\n",
       "  'title': 'Meet the fan who followed Wimbledon from Selhurst Park to Milton Keynes in 2003 and has remained an MK Dons fan for 20 years',\n",
       "  'description': \"Many Wimbledon fans don't even recognise MK Dons in the modern game, though Matt Lazenby tells FourFourTwo why he continued his support for the club\",\n",
       "  'url': 'https://www.fourfourtwo.com/news/meet-the-fan-who-followed-wimbledon-from-selhurst-park-to-milton-keynes-in-2003-and-has-remained-an-mk-dons-fan-for-20-years',\n",
       "  'urlToImage': 'https://cdn.mos.cms.futurecdn.net/7LqPTNZ3Q38FyhmFuRCF75-1200-80.jpg',\n",
       "  'publishedAt': '2023-07-03T17:00:00Z',\n",
       "  'content': \"MK Dons are arguably the most hated football club in the UK, after controversially relocating Wimbledon to Milton Keynes in 2004.\\xa0And they don't care.\\r\\nMatt Lazenby supported Wimbledon throughout his… [+3501 chars]\"},\n",
       " {'source': {'id': 'four-four-two', 'name': 'FourFourTwo'},\n",
       "  'author': 'Ryan Dabbs, Simon Yaffe',\n",
       "  'title': 'Suing Donald Trump and clay pigeon shooting with Gerry Marsden: Inside the life of former Inter Milan, Everton and Leeds midfielder Olivier Dacourt',\n",
       "  'description': 'The Frenchman had a varied football career - though nothing compared to his life off the pitch',\n",
       "  'url': 'https://www.fourfourtwo.com/news/suing-donald-trump-and-clay-pigeon-shooting-with-gerry-marsden-inside-the-life-of-former-inter-milan-everton-and-leeds-midfielder-olivier-dacourt',\n",
       "  'urlToImage': 'https://cdn.mos.cms.futurecdn.net/9JkViVjquEnGQ9k9tFHHEP-1200-80.jpg',\n",
       "  'publishedAt': '2023-07-03T16:30:35Z',\n",
       "  'content': 'Olivier Dacourt enjoyed a successful 18-year professional career playing for clubs such as Inter Milan, Roma, Everton and Leeds United, as well as making 21 appearances for France.\\r\\nThe former midfie… [+1585 chars]'},\n",
       " {'source': {'id': 'four-four-two', 'name': 'FourFourTwo'},\n",
       "  'author': 'Mark White',\n",
       "  'title': 'Manchester United set to make forward their highest earner on incredible £375,000-a-week deal: report',\n",
       "  'description': \"Manchester United are maxing out their wage budget, as Erik ten Hag's busy summer of new contracts and new signings continues\",\n",
       "  'url': 'https://www.fourfourtwo.com/news/manchester-united-transfer-news-man-utd-manu-set-to-make-forward-their-highest-earner-on-incredible-375000-a-week-deal-report-marcus-rashford-signings-rumours-gossip-paper-talk-luhg-ggmu-mufc',\n",
       "  'urlToImage': 'https://cdn.mos.cms.futurecdn.net/5b22imwQocfkocHuGXVtnD-1200-80.jpg',\n",
       "  'publishedAt': '2023-07-03T13:00:36Z',\n",
       "  'content': \"Manchester United are closing in on a new contract which would see David De Gea no longer the club's biggest earner.\\r\\nThe Spaniard has been the club's best-paid star for years now, having signed a ne… [+2172 chars]\"},\n",
       " {'source': {'id': 'four-four-two', 'name': 'FourFourTwo'},\n",
       "  'author': 'Mark White',\n",
       "  'title': 'Manchester City set to smash a transfer record to sign superstar ahead of Liverpool: report',\n",
       "  'description': 'Manchester City are close to bringing in their second signing of the summer, breaking a record in the process and trumping rivals Liverpool',\n",
       "  'url': 'https://www.fourfourtwo.com/news/manchester-city-set-to-smash-a-transfer-record-to-sign-superstar-ahead-of-liverpool-report',\n",
       "  'urlToImage': 'https://cdn.mos.cms.futurecdn.net/NXpF8yeDPWVxNBNqV4syHk-1200-80.jpg',\n",
       "  'publishedAt': '2023-07-03T12:00:00Z',\n",
       "  'content': 'Manchester City are on the brink of completing a bumper new signing ahead of Liverpool – which will break a transfer record.\\r\\nThe Citizens lifted a historic Treble last season but Pep Guardiola has h… [+1957 chars]'},\n",
       " {'source': {'id': 'four-four-two', 'name': 'FourFourTwo'},\n",
       "  'author': 'Mark White',\n",
       "  'title': 'Arsenal green-light Thomas Partey sale – with replacement decided already: report',\n",
       "  'description': 'Arsenal are set to sell Thomas Partey, with three names on the shortlist to replace the midfielder',\n",
       "  'url': 'https://www.fourfourtwo.com/news/arsenal-transfer-news-green-light-thomas-partey-sale-with-replacement-decided-already-report-moises-caicedo-romeo-lavia-youssef-fofana-signings-rumours-gossip-paper-talk-afc',\n",
       "  'urlToImage': 'https://cdn.mos.cms.futurecdn.net/Jirrs6JwhAKFXwHqEvHKrM-1200-80.jpg',\n",
       "  'publishedAt': '2023-07-03T11:00:00Z',\n",
       "  'content': \"Arsenal star Thomas Partey is set to be sacrificed by manager Mikel Arteta as the Gunners' overhaul continues.\\r\\nDeclan Rice is expected to join the club for a whopping £105 million, a record for an E… [+1967 chars]\"},\n",
       " {'source': {'id': 'four-four-two', 'name': 'FourFourTwo'},\n",
       "  'author': 'Ryan Dabbs',\n",
       "  'title': \"Lionel Messi's lucrative salary and contract details at Inter Miami revealed by club's co-owner\",\n",
       "  'description': 'Lionel Messi will earn an astronomical fee in the United States - though there are other incentives for him in MLS',\n",
       "  'url': 'https://www.fourfourtwo.com/news/lionel-messis-lucrative-salary-and-contract-details-at-inter-miami-revealed-by-clubs-co-owner',\n",
       "  'urlToImage': 'https://cdn.mos.cms.futurecdn.net/6z4rcmHAZBU87hVDR3Zfmm-1200-80.jpg',\n",
       "  'publishedAt': '2023-07-03T10:00:00Z',\n",
       "  'content': \"Lionel Messi is set to join Inter Miami on a free transfer after his contract at PSG expired last week, and the MLS side's co-owner Jorge Mas has revealed exactly what the Argentine will earn in the … [+2989 chars]\"},\n",
       " {'source': {'id': 'four-four-two', 'name': 'FourFourTwo'},\n",
       "  'author': 'Ryan Dabbs',\n",
       "  'title': 'Patrick Vieira has Chelsea owners to thank for return to management',\n",
       "  'description': 'Patrick Vieira has been appointed as the new boss at French side RC Strasbourg',\n",
       "  'url': 'https://www.fourfourtwo.com/news/patrick-vieira-has-chelsea-owners-to-thank-for-return-to-management',\n",
       "  'urlToImage': 'https://cdn.mos.cms.futurecdn.net/crrF5dE7sT7BVmZdqCj2S7-1200-80.jpg',\n",
       "  'publishedAt': '2023-07-03T09:00:25Z',\n",
       "  'content': 'Patrick Vieira has returned to management following his sacking by Crystal Palace in March, signing a three-year deal with Ligue 1 side RC Strasbourg.\\xa0\\r\\nThe current Chelsea owners recently agreed a d… [+1589 chars]'},\n",
       " {'source': {'id': 'four-four-two', 'name': 'FourFourTwo'},\n",
       "  'author': 'Mark White',\n",
       "  'title': 'Manchester United set to sign wonderkid striker on bargain deal: report',\n",
       "  'description': 'Manchester United are eyeing a striker in the summer transfer window – and may well have found one at a snip',\n",
       "  'url': 'https://www.fourfourtwo.com/news/manchester-united-transfer-news-man-utd-manu-set-to-sign-wonderkid-striker-on-bargain-deal-report-rasmus-hojlund-atalanta-signings-rumours-gossip-paper-talk-luhg-ggmu-mufc',\n",
       "  'urlToImage': 'https://cdn.mos.cms.futurecdn.net/gg7oSQVR3jGV2RLM73HHK7-1200-80.jpg',\n",
       "  'publishedAt': '2023-07-03T08:42:33Z',\n",
       "  'content': \"Manchester United appear to be in the driving seat to land a hugely promising striker at a fraction of what they thought they'd have to pay for one.\\r\\nThe Red Devils have been in the market for a new … [+1998 chars]\"},\n",
       " {'source': {'id': 'four-four-two', 'name': 'FourFourTwo'},\n",
       "  'author': 'Ryan Dabbs',\n",
       "  'title': 'Arsenal to receive £200m in player sales as part of huge squad overhaul: report',\n",
       "  'description': 'Arteta has given the green light for multiple squad members to be sold this summer to make room for new arrivals',\n",
       "  'url': 'https://www.fourfourtwo.com/news/arsenal-to-receive-pound200m-in-player-sales-as-part-of-huge-squad-overhaul-report',\n",
       "  'urlToImage': 'https://cdn.mos.cms.futurecdn.net/JyaS6dfGcjeMxoyM9TrmJW-1200-80.jpg',\n",
       "  'publishedAt': '2023-07-03T06:00:00Z',\n",
       "  'content': 'Arsenal are currently in the midst of their most important transfer window in recent times as they look to close the gap to Manchester City, and things are certainly looking positive.\\r\\nThe Gunners ha… [+3029 chars]'},\n",
       " {'source': {'id': 'four-four-two', 'name': 'FourFourTwo'},\n",
       "  'author': 'Chris Flanagan',\n",
       "  'title': 'How Luis Diaz joining Liverpool cost Diogo Jota money',\n",
       "  'description': \"In an exclusive interview with FourFourTwo, the Portuguese forward reveals he was once his team-mate's landlord\",\n",
       "  'url': 'https://www.fourfourtwo.com/news/diogo-jota-landlord-luis-diaz',\n",
       "  'urlToImage': 'https://cdn.mos.cms.futurecdn.net/yyVWaoiyCAfhToXddpef6o-1200-80.jpg',\n",
       "  'publishedAt': '2023-07-02T13:00:20Z',\n",
       "  'content': 'Diogo Jota and Luis Diaz are good friends in the Liverpool dressing room - previously, they were landlord and tenant in Porto.\\r\\nDiaz joined Liverpool in January 2022 from Porto, where he’d been renti… [+1705 chars]'}]"
      ]
     },
     "execution_count": 27,
     "metadata": {},
     "output_type": "execute_result"
    }
   ],
   "source": [
    "data['articles']"
   ]
  },
  {
   "cell_type": "code",
   "execution_count": 31,
   "id": "63e2ded9-cfae-43c7-9452-8abfc1687f88",
   "metadata": {},
   "outputs": [
    {
     "name": "stdout",
     "output_type": "stream",
     "text": [
      "Meet the fan who followed Wimbledon from Selhurst Park to Milton Keynes in 2003 and has remained an MK Dons fan for 20 years\n",
      "Suing Donald Trump and clay pigeon shooting with Gerry Marsden: Inside the life of former Inter Milan, Everton and Leeds midfielder Olivier Dacourt\n",
      "Manchester United set to make forward their highest earner on incredible £375,000-a-week deal: report\n",
      "Manchester City set to smash a transfer record to sign superstar ahead of Liverpool: report\n",
      "Arsenal green-light Thomas Partey sale – with replacement decided already: report\n",
      "Lionel Messi's lucrative salary and contract details at Inter Miami revealed by club's co-owner\n",
      "Patrick Vieira has Chelsea owners to thank for return to management\n",
      "Manchester United set to sign wonderkid striker on bargain deal: report\n",
      "Arsenal to receive £200m in player sales as part of huge squad overhaul: report\n",
      "How Luis Diaz joining Liverpool cost Diogo Jota money\n"
     ]
    }
   ],
   "source": [
    "for item in data['articles']:\n",
    "    print(item['title'])"
   ]
  },
  {
   "cell_type": "code",
   "execution_count": 38,
   "id": "7ecdadc0-a4b9-4e63-98ca-bb1a6e2bca18",
   "metadata": {},
   "outputs": [],
   "source": [
    "def store_data(data):\n",
    "    # Asset with explicit dependencies\n",
    "    f = open(\"data.txt\", \"w\")\n",
    "    f.write(\"\")\n",
    "    f.close()\n",
    "    f = open(\"data.txt\", \"a\")\n",
    "    for item in data['articles']:\n",
    "        f.write(item['title'])\n",
    "        f.write('\\n')\n",
    "    f.close()\n",
    "    return"
   ]
  },
  {
   "cell_type": "code",
   "execution_count": 39,
   "id": "1c1a2256-5a64-4f46-995f-82614fcd4ee9",
   "metadata": {},
   "outputs": [],
   "source": [
    "store_data(data)"
   ]
  },
  {
   "cell_type": "code",
   "execution_count": null,
   "id": "bd912c01-152f-4c3f-9a02-04066d5b0e51",
   "metadata": {},
   "outputs": [],
   "source": []
  }
 ],
 "metadata": {
  "kernelspec": {
   "display_name": "Python 3 (ipykernel)",
   "language": "python",
   "name": "python3"
  },
  "language_info": {
   "codemirror_mode": {
    "name": "ipython",
    "version": 3
   },
   "file_extension": ".py",
   "mimetype": "text/x-python",
   "name": "python",
   "nbconvert_exporter": "python",
   "pygments_lexer": "ipython3",
   "version": "3.10.9"
  }
 },
 "nbformat": 4,
 "nbformat_minor": 5
}
